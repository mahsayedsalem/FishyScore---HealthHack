{
 "cells": [
  {
   "cell_type": "markdown",
   "metadata": {},
   "source": [
    "<img src=\"images/3.png\" width=\"500\" height=\"500\" align=\"middle\">"
   ]
  },
  {
   "cell_type": "markdown",
   "metadata": {},
   "source": [
    "## Fishy Score Approach - HealthHack Egypt \n"
   ]
  },
  {
   "cell_type": "markdown",
   "metadata": {},
   "source": [
    "This is the framework our team (S.A.D) used to approach the problem given. It won the <b>\"HealtHack | Egypt's First Healthcare Hackathon\"</b> organized by <b>Health2.0</b> "
   ]
  },
  {
   "cell_type": "markdown",
   "metadata": {},
   "source": [
    "# Team Memebrs\n",
    "\n",
    "<ul>\n",
    "    <li><b>Abdulla Tarek:</b> Senior CS Student at MSA University</li>\n",
    "    <li><b>Andrew Ramzy:</b> Data Scientist at CIB</li>\n",
    "    <li><b>Mahmoud Salem:</b> Senior CS Student at MSA University</li>\n",
    "    <li><b>Menna Mostafa:</b> Senior CSE Student at Cairo University</li>\n",
    "</ul>"
   ]
  },
  {
   "cell_type": "markdown",
   "metadata": {},
   "source": [
    "# Problem Statement\n",
    "\n",
    "Insurance companies lose money due to fraud. Whether this fraud comes from patients or medicare services providers; Some patients use services they don't need, some service-providers charge more for services than they should, and sometimes patients and services-providers collude with each others to charge the insurance company for money that wasn't actually used for medical services. "
   ]
  },
  {
   "cell_type": "markdown",
   "metadata": {},
   "source": [
    "# Challenge\n",
    "\n",
    "Using the <a href=\"https://data.cms.gov/Medicare-Physician-Supplier/Medicare-Physician-and-Other-Supplier-National-Pro/p3uv-6dv4\">Medicare Physician and Other Supplier National Provider Identifier (NPI) Aggregate Report, Calendar Year 2015</a> dataset, try to address patterns that detect fraud and minize the spends of the insurance companies."
   ]
  },
  {
   "cell_type": "markdown",
   "metadata": {},
   "source": [
    "# Time frame\n",
    "\n",
    "The challenge orginal time frame was two and half days. Half a day for breaking the ice, a day and half for hacking/presentation and half a day dedicated to the teams' presentation. Due to connection problems, the hacking and presentation preparing time didn't exceed 15 hours. "
   ]
  },
  {
   "cell_type": "markdown",
   "metadata": {},
   "source": [
    "# Prize \n",
    "30,000LE"
   ]
  },
  {
   "cell_type": "markdown",
   "metadata": {},
   "source": [
    "# Understanding the business\n",
    "\n",
    "\n"
   ]
  },
  {
   "cell_type": "markdown",
   "metadata": {},
   "source": [
    "<img src=\"images/1.png\" width=\"700\" height=\"500\">"
   ]
  },
  {
   "cell_type": "markdown",
   "metadata": {},
   "source": [
    "The figure above gives the general idea of how the business works. We can now understand that there are three levels in which we can work on, the beneficiary level, the service provider level and the claim level. Having datasets on the three levels can assure an acceptable detection of both the accepted patters, and the outliers as well."
   ]
  },
  {
   "cell_type": "markdown",
   "metadata": {},
   "source": [
    "# Discovering the dataset"
   ]
  },
  {
   "cell_type": "code",
   "execution_count": 17,
   "metadata": {},
   "outputs": [],
   "source": [
    "#importing modules\n",
    "\n",
    "import matplotlib as mp\n",
    "import pandas as pd\n",
    "import pickle\n",
    "import numpy as np\n",
    "import numpy as np\n",
    "import scipy.stats as stats\n",
    "import matplotlib.pyplot as plt\n",
    "\n",
    "\n",
    "%config IPCompleter.greedy=True\n",
    "%matplotlib inline"
   ]
  },
  {
   "cell_type": "code",
   "execution_count": 2,
   "metadata": {},
   "outputs": [],
   "source": [
    "'''\n",
    "Choose whether to use load the data from it's orginal files or from data pickles to save your time. In my case, I used pickles \n",
    "which I created before, but in case you want to load it from scratch, un-comment the next section and comment data pickles part.\n",
    "'''\n",
    "\n",
    "'''\n",
    "     df = pd.read_csv(\"Datasets\\\\Medicare_Physician_and_Other_Supplier_NPI_Aggregate_CY2015.txt\", sep='\\t')\n",
    "'''\n",
    "\n",
    "df = pd.read_pickle('DataPickles\\\\my_summ_df.pickle')\n"
   ]
  },
  {
   "cell_type": "code",
   "execution_count": 3,
   "metadata": {},
   "outputs": [
    {
     "data": {
      "text/html": [
       "<div>\n",
       "<style scoped>\n",
       "    .dataframe tbody tr th:only-of-type {\n",
       "        vertical-align: middle;\n",
       "    }\n",
       "\n",
       "    .dataframe tbody tr th {\n",
       "        vertical-align: top;\n",
       "    }\n",
       "\n",
       "    .dataframe thead th {\n",
       "        text-align: right;\n",
       "    }\n",
       "</style>\n",
       "<table border=\"1\" class=\"dataframe\">\n",
       "  <thead>\n",
       "    <tr style=\"text-align: right;\">\n",
       "      <th></th>\n",
       "      <th>npi</th>\n",
       "      <th>nppes_provider_last_org_name</th>\n",
       "      <th>nppes_provider_first_name</th>\n",
       "      <th>nppes_provider_mi</th>\n",
       "      <th>nppes_credentials</th>\n",
       "      <th>nppes_provider_gender</th>\n",
       "      <th>nppes_entity_code</th>\n",
       "      <th>nppes_provider_street1</th>\n",
       "      <th>nppes_provider_street2</th>\n",
       "      <th>nppes_provider_city</th>\n",
       "      <th>...</th>\n",
       "      <th>beneficiary_cc_depr_percent</th>\n",
       "      <th>beneficiary_cc_diab_percent</th>\n",
       "      <th>beneficiary_cc_hyperl_percent</th>\n",
       "      <th>beneficiary_cc_hypert_percent</th>\n",
       "      <th>beneficiary_cc_ihd_percent</th>\n",
       "      <th>beneficiary_cc_ost_percent</th>\n",
       "      <th>beneficiary_cc_raoa_percent</th>\n",
       "      <th>beneficiary_cc_schiot_percent</th>\n",
       "      <th>beneficiary_cc_strk_percent</th>\n",
       "      <th>Beneficiary_Average_Risk_Score</th>\n",
       "    </tr>\n",
       "  </thead>\n",
       "  <tbody>\n",
       "    <tr>\n",
       "      <th>0</th>\n",
       "      <td>1003000126</td>\n",
       "      <td>ENKESHAFI</td>\n",
       "      <td>ARDALAN</td>\n",
       "      <td>NaN</td>\n",
       "      <td>M.D.</td>\n",
       "      <td>M</td>\n",
       "      <td>I</td>\n",
       "      <td>900 SETON DR</td>\n",
       "      <td>NaN</td>\n",
       "      <td>CUMBERLAND</td>\n",
       "      <td>...</td>\n",
       "      <td>49.0</td>\n",
       "      <td>52.0</td>\n",
       "      <td>74.0</td>\n",
       "      <td>75.0</td>\n",
       "      <td>66.0</td>\n",
       "      <td>12.0</td>\n",
       "      <td>57.0</td>\n",
       "      <td>22.0</td>\n",
       "      <td>21.0</td>\n",
       "      <td>2.4686</td>\n",
       "    </tr>\n",
       "    <tr>\n",
       "      <th>1</th>\n",
       "      <td>1003000134</td>\n",
       "      <td>CIBULL</td>\n",
       "      <td>THOMAS</td>\n",
       "      <td>L</td>\n",
       "      <td>M.D.</td>\n",
       "      <td>M</td>\n",
       "      <td>I</td>\n",
       "      <td>2650 RIDGE AVE</td>\n",
       "      <td>EVANSTON HOSPITAL</td>\n",
       "      <td>EVANSTON</td>\n",
       "      <td>...</td>\n",
       "      <td>12.0</td>\n",
       "      <td>21.0</td>\n",
       "      <td>52.0</td>\n",
       "      <td>56.0</td>\n",
       "      <td>27.0</td>\n",
       "      <td>8.0</td>\n",
       "      <td>38.0</td>\n",
       "      <td>1.0</td>\n",
       "      <td>3.0</td>\n",
       "      <td>1.0563</td>\n",
       "    </tr>\n",
       "    <tr>\n",
       "      <th>2</th>\n",
       "      <td>1003000142</td>\n",
       "      <td>KHALIL</td>\n",
       "      <td>RASHID</td>\n",
       "      <td>NaN</td>\n",
       "      <td>M.D.</td>\n",
       "      <td>M</td>\n",
       "      <td>I</td>\n",
       "      <td>4126 N HOLLAND SYLVANIA RD</td>\n",
       "      <td>SUITE 220</td>\n",
       "      <td>TOLEDO</td>\n",
       "      <td>...</td>\n",
       "      <td>50.0</td>\n",
       "      <td>35.0</td>\n",
       "      <td>51.0</td>\n",
       "      <td>70.0</td>\n",
       "      <td>35.0</td>\n",
       "      <td>8.0</td>\n",
       "      <td>71.0</td>\n",
       "      <td>7.0</td>\n",
       "      <td>5.0</td>\n",
       "      <td>1.4764</td>\n",
       "    </tr>\n",
       "    <tr>\n",
       "      <th>3</th>\n",
       "      <td>1003000407</td>\n",
       "      <td>GIRARDI</td>\n",
       "      <td>DAVID</td>\n",
       "      <td>J</td>\n",
       "      <td>D.O.</td>\n",
       "      <td>M</td>\n",
       "      <td>I</td>\n",
       "      <td>100 HOSPITAL RD</td>\n",
       "      <td>NaN</td>\n",
       "      <td>BROOKVILLE</td>\n",
       "      <td>...</td>\n",
       "      <td>46.0</td>\n",
       "      <td>43.0</td>\n",
       "      <td>66.0</td>\n",
       "      <td>75.0</td>\n",
       "      <td>60.0</td>\n",
       "      <td>15.0</td>\n",
       "      <td>45.0</td>\n",
       "      <td>20.0</td>\n",
       "      <td>16.0</td>\n",
       "      <td>1.8608</td>\n",
       "    </tr>\n",
       "    <tr>\n",
       "      <th>4</th>\n",
       "      <td>1003000423</td>\n",
       "      <td>VELOTTA</td>\n",
       "      <td>JENNIFER</td>\n",
       "      <td>A</td>\n",
       "      <td>M.D.</td>\n",
       "      <td>F</td>\n",
       "      <td>I</td>\n",
       "      <td>11100 EUCLID AVE</td>\n",
       "      <td>NaN</td>\n",
       "      <td>CLEVELAND</td>\n",
       "      <td>...</td>\n",
       "      <td>34.0</td>\n",
       "      <td>34.0</td>\n",
       "      <td>55.0</td>\n",
       "      <td>54.0</td>\n",
       "      <td>25.0</td>\n",
       "      <td>NaN</td>\n",
       "      <td>39.0</td>\n",
       "      <td>NaN</td>\n",
       "      <td>NaN</td>\n",
       "      <td>0.9608</td>\n",
       "    </tr>\n",
       "  </tbody>\n",
       "</table>\n",
       "<p>5 rows × 70 columns</p>\n",
       "</div>"
      ],
      "text/plain": [
       "          npi nppes_provider_last_org_name nppes_provider_first_name  \\\n",
       "0  1003000126                    ENKESHAFI                   ARDALAN   \n",
       "1  1003000134                       CIBULL                    THOMAS   \n",
       "2  1003000142                       KHALIL                    RASHID   \n",
       "3  1003000407                      GIRARDI                     DAVID   \n",
       "4  1003000423                      VELOTTA                  JENNIFER   \n",
       "\n",
       "  nppes_provider_mi nppes_credentials nppes_provider_gender nppes_entity_code  \\\n",
       "0               NaN              M.D.                     M                 I   \n",
       "1                 L              M.D.                     M                 I   \n",
       "2               NaN              M.D.                     M                 I   \n",
       "3                 J              D.O.                     M                 I   \n",
       "4                 A              M.D.                     F                 I   \n",
       "\n",
       "       nppes_provider_street1 nppes_provider_street2 nppes_provider_city  \\\n",
       "0                900 SETON DR                    NaN          CUMBERLAND   \n",
       "1              2650 RIDGE AVE      EVANSTON HOSPITAL            EVANSTON   \n",
       "2  4126 N HOLLAND SYLVANIA RD              SUITE 220              TOLEDO   \n",
       "3             100 HOSPITAL RD                    NaN          BROOKVILLE   \n",
       "4            11100 EUCLID AVE                    NaN           CLEVELAND   \n",
       "\n",
       "                ...               beneficiary_cc_depr_percent  \\\n",
       "0               ...                                      49.0   \n",
       "1               ...                                      12.0   \n",
       "2               ...                                      50.0   \n",
       "3               ...                                      46.0   \n",
       "4               ...                                      34.0   \n",
       "\n",
       "  beneficiary_cc_diab_percent beneficiary_cc_hyperl_percent  \\\n",
       "0                        52.0                          74.0   \n",
       "1                        21.0                          52.0   \n",
       "2                        35.0                          51.0   \n",
       "3                        43.0                          66.0   \n",
       "4                        34.0                          55.0   \n",
       "\n",
       "  beneficiary_cc_hypert_percent beneficiary_cc_ihd_percent  \\\n",
       "0                          75.0                       66.0   \n",
       "1                          56.0                       27.0   \n",
       "2                          70.0                       35.0   \n",
       "3                          75.0                       60.0   \n",
       "4                          54.0                       25.0   \n",
       "\n",
       "   beneficiary_cc_ost_percent  beneficiary_cc_raoa_percent  \\\n",
       "0                        12.0                         57.0   \n",
       "1                         8.0                         38.0   \n",
       "2                         8.0                         71.0   \n",
       "3                        15.0                         45.0   \n",
       "4                         NaN                         39.0   \n",
       "\n",
       "   beneficiary_cc_schiot_percent  beneficiary_cc_strk_percent  \\\n",
       "0                           22.0                         21.0   \n",
       "1                            1.0                          3.0   \n",
       "2                            7.0                          5.0   \n",
       "3                           20.0                         16.0   \n",
       "4                            NaN                          NaN   \n",
       "\n",
       "   Beneficiary_Average_Risk_Score  \n",
       "0                          2.4686  \n",
       "1                          1.0563  \n",
       "2                          1.4764  \n",
       "3                          1.8608  \n",
       "4                          0.9608  \n",
       "\n",
       "[5 rows x 70 columns]"
      ]
     },
     "execution_count": 3,
     "metadata": {},
     "output_type": "execute_result"
    }
   ],
   "source": [
    "#exploring the dataset\n",
    "\n",
    "df.head()"
   ]
  },
  {
   "cell_type": "code",
   "execution_count": 4,
   "metadata": {},
   "outputs": [
    {
     "data": {
      "text/plain": [
       "['npi',\n",
       " 'nppes_provider_last_org_name',\n",
       " 'nppes_provider_first_name',\n",
       " 'nppes_provider_mi',\n",
       " 'nppes_credentials',\n",
       " 'nppes_provider_gender',\n",
       " 'nppes_entity_code',\n",
       " 'nppes_provider_street1',\n",
       " 'nppes_provider_street2',\n",
       " 'nppes_provider_city',\n",
       " 'nppes_provider_zip',\n",
       " 'nppes_provider_state',\n",
       " 'nppes_provider_country',\n",
       " 'provider_type',\n",
       " 'medicare_participation_indicator',\n",
       " 'number_of_hcpcs',\n",
       " 'total_services',\n",
       " 'total_unique_benes',\n",
       " 'total_submitted_chrg_amt',\n",
       " 'total_medicare_allowed_amt',\n",
       " 'total_medicare_payment_amt',\n",
       " 'total_medicare_stnd_amt',\n",
       " 'drug_suppress_indicator',\n",
       " 'number_of_drug_hcpcs',\n",
       " 'total_drug_services',\n",
       " 'total_drug_unique_benes',\n",
       " 'total_drug_submitted_chrg_amt',\n",
       " 'total_drug_medicare_allowed_amt',\n",
       " 'total_drug_medicare_payment_amt',\n",
       " 'total_drug_medicare_stnd_amt',\n",
       " 'med_suppress_indicator',\n",
       " 'number_of_med_hcpcs',\n",
       " 'total_med_services',\n",
       " 'total_med_unique_benes',\n",
       " 'total_med_submitted_chrg_amt',\n",
       " 'total_med_medicare_allowed_amt',\n",
       " 'total_med_medicare_payment_amt',\n",
       " 'total_med_medicare_stnd_amt',\n",
       " 'beneficiary_average_age',\n",
       " 'beneficiary_age_less_65_count',\n",
       " 'beneficiary_age_65_74_count',\n",
       " 'beneficiary_age_75_84_count',\n",
       " 'beneficiary_age_greater_84_count',\n",
       " 'beneficiary_female_count',\n",
       " 'beneficiary_male_count',\n",
       " 'beneficiary_race_white_count',\n",
       " 'beneficiary_race_black_count',\n",
       " 'beneficiary_race_api_count',\n",
       " 'beneficiary_race_hispanic_count',\n",
       " 'beneficiary_race_natind_count',\n",
       " 'beneficiary_race_other_count',\n",
       " 'beneficiary_nondual_count',\n",
       " 'beneficiary_dual_count',\n",
       " 'beneficiary_cc_afib_percent',\n",
       " 'beneficiary_cc_alzrdsd_percent',\n",
       " 'beneficiary_cc_asthma_percent',\n",
       " 'beneficiary_cc_cancer_percent',\n",
       " 'beneficiary_cc_chf_percent',\n",
       " 'beneficiary_cc_ckd_percent',\n",
       " 'beneficiary_cc_copd_percent',\n",
       " 'beneficiary_cc_depr_percent',\n",
       " 'beneficiary_cc_diab_percent',\n",
       " 'beneficiary_cc_hyperl_percent',\n",
       " 'beneficiary_cc_hypert_percent',\n",
       " 'beneficiary_cc_ihd_percent',\n",
       " 'beneficiary_cc_ost_percent',\n",
       " 'beneficiary_cc_raoa_percent',\n",
       " 'beneficiary_cc_schiot_percent',\n",
       " 'beneficiary_cc_strk_percent',\n",
       " 'Beneficiary_Average_Risk_Score']"
      ]
     },
     "execution_count": 4,
     "metadata": {},
     "output_type": "execute_result"
    }
   ],
   "source": [
    "#explore the columns\n",
    "\n",
    "list(df)"
   ]
  },
  {
   "cell_type": "markdown",
   "metadata": {},
   "source": [
    "The dataset consists of 3 parts. \n",
    "    <ol type=\"1\">\n",
    "      <li>The Service Provider Personal Information</li>\n",
    "      <li>The Services and payments details</li>\n",
    "      <li>The beneficiaries' statistics</li>\n",
    "    </ol>\n",
    "After reading the describtion of each column, our attention was on the <b>\"Beneficiary_Average_Risk_Score\"</b> feature, we needed to investigate more on how it was obtained. The coming few lines are copied from the <b>\"Medicare_Physician_and_Other_Supplier_PUF_Methodology_2017-06-15.pdf\"</b> file(Additional Section). \n",
    "\n",
    "<i>\"HCCs (hierarchical condition categories): CMS developed a risk-adjustment model that uses HCCs (hierarchical condition categories) to assign risk scores. Those scores estimate how beneficiaries’ FFS spending will compare to the overall average for the entire Medicare population. The average risk score is set at 1.08; beneficiaries with scores greater than that are expected to have above-average spending, and vice versa. Risk scores are based on a beneficiary’s age and sex; whether the beneficiary is eligible for Medicaid, first qualified for Medicare on the basis of disability, or lives in an institution (usually a nursing home); and the beneficiary’s diagnoses from the previous year.\"</i>\n",
    "\n",
    "Having known that, we now could make our first variable: Since the service provider didn't participate in calculating the beneficinary's risk score, then the risk score isn't biased. \n",
    "\n",
    "We will use \"PRS\" as an abbreviation for \"Patient's Risk Scoring\" from now on. \n",
    "\n",
    "We have an average risk score of the patients for each provider. We need to address what's the normal PRS which each provider(Based on their types) should expect in their patients. "
   ]
  },
  {
   "cell_type": "code",
   "execution_count": 5,
   "metadata": {},
   "outputs": [],
   "source": [
    "#remove un-needed columns\n",
    "\n",
    "df = df.drop('nppes_provider_last_org_name', 1)\n",
    "df = df.drop('nppes_provider_first_name', 1)\n",
    "df = df.drop('nppes_provider_mi', 1)\n",
    "df = df.drop('nppes_provider_street1', 1)\n",
    "df = df.drop('nppes_provider_street2', 1)\n",
    "df = df.drop('nppes_provider_zip', 1)\n",
    "df = df.drop('nppes_provider_country', 1)"
   ]
  },
  {
   "cell_type": "code",
   "execution_count": 6,
   "metadata": {},
   "outputs": [],
   "source": [
    "#saving the new pickle\n",
    "\n",
    "df.to_pickle('DataPickles\\\\summ_data_cleansed.pickle')"
   ]
  },
  {
   "cell_type": "code",
   "execution_count": 7,
   "metadata": {},
   "outputs": [],
   "source": [
    "#bring the average and std risk for each provider type\n",
    "\n",
    "PT_Risk = pd.DataFrame(df, columns=['provider_type', 'Beneficiary_Average_Risk_Score'])\n",
    "tt1 = PT_Risk.groupby('provider_type').mean().reset_index()\n",
    "tt2 = PT_Risk.groupby('provider_type').std().reset_index()\n",
    "PT_Average_STD_Risk = pd.merge(tt1, tt2, on='provider_type')"
   ]
  },
  {
   "cell_type": "code",
   "execution_count": 8,
   "metadata": {},
   "outputs": [
    {
     "data": {
      "text/html": [
       "<div>\n",
       "<style scoped>\n",
       "    .dataframe tbody tr th:only-of-type {\n",
       "        vertical-align: middle;\n",
       "    }\n",
       "\n",
       "    .dataframe tbody tr th {\n",
       "        vertical-align: top;\n",
       "    }\n",
       "\n",
       "    .dataframe thead th {\n",
       "        text-align: right;\n",
       "    }\n",
       "</style>\n",
       "<table border=\"1\" class=\"dataframe\">\n",
       "  <thead>\n",
       "    <tr style=\"text-align: right;\">\n",
       "      <th></th>\n",
       "      <th>provider_type</th>\n",
       "      <th>Beneficiary_Average_Risk_Score_x</th>\n",
       "      <th>Beneficiary_Average_Risk_Score_y</th>\n",
       "    </tr>\n",
       "  </thead>\n",
       "  <tbody>\n",
       "    <tr>\n",
       "      <th>0</th>\n",
       "      <td>Addiction Medicine</td>\n",
       "      <td>1.567948</td>\n",
       "      <td>0.425543</td>\n",
       "    </tr>\n",
       "    <tr>\n",
       "      <th>1</th>\n",
       "      <td>All Other Suppliers</td>\n",
       "      <td>1.197778</td>\n",
       "      <td>0.618247</td>\n",
       "    </tr>\n",
       "    <tr>\n",
       "      <th>2</th>\n",
       "      <td>Allergy/Immunology</td>\n",
       "      <td>1.036246</td>\n",
       "      <td>0.290311</td>\n",
       "    </tr>\n",
       "    <tr>\n",
       "      <th>3</th>\n",
       "      <td>Ambulance Service Supplier</td>\n",
       "      <td>2.233170</td>\n",
       "      <td>1.051942</td>\n",
       "    </tr>\n",
       "    <tr>\n",
       "      <th>4</th>\n",
       "      <td>Ambulatory Surgical Center</td>\n",
       "      <td>1.111610</td>\n",
       "      <td>0.368960</td>\n",
       "    </tr>\n",
       "  </tbody>\n",
       "</table>\n",
       "</div>"
      ],
      "text/plain": [
       "                provider_type  Beneficiary_Average_Risk_Score_x  \\\n",
       "0          Addiction Medicine                          1.567948   \n",
       "1         All Other Suppliers                          1.197778   \n",
       "2          Allergy/Immunology                          1.036246   \n",
       "3  Ambulance Service Supplier                          2.233170   \n",
       "4  Ambulatory Surgical Center                          1.111610   \n",
       "\n",
       "   Beneficiary_Average_Risk_Score_y  \n",
       "0                          0.425543  \n",
       "1                          0.618247  \n",
       "2                          0.290311  \n",
       "3                          1.051942  \n",
       "4                          0.368960  "
      ]
     },
     "execution_count": 8,
     "metadata": {},
     "output_type": "execute_result"
    }
   ],
   "source": [
    "PT_Average_STD_Risk.head()"
   ]
  },
  {
   "cell_type": "code",
   "execution_count": 9,
   "metadata": {},
   "outputs": [
    {
     "data": {
      "text/html": [
       "<div>\n",
       "<style scoped>\n",
       "    .dataframe tbody tr th:only-of-type {\n",
       "        vertical-align: middle;\n",
       "    }\n",
       "\n",
       "    .dataframe tbody tr th {\n",
       "        vertical-align: top;\n",
       "    }\n",
       "\n",
       "    .dataframe thead th {\n",
       "        text-align: right;\n",
       "    }\n",
       "</style>\n",
       "<table border=\"1\" class=\"dataframe\">\n",
       "  <thead>\n",
       "    <tr style=\"text-align: right;\">\n",
       "      <th></th>\n",
       "      <th>Provider's Type</th>\n",
       "      <th>Average Risk Score/Profession</th>\n",
       "      <th>STD Risk Score/Profession</th>\n",
       "    </tr>\n",
       "  </thead>\n",
       "  <tbody>\n",
       "    <tr>\n",
       "      <th>0</th>\n",
       "      <td>Addiction Medicine</td>\n",
       "      <td>1.567948</td>\n",
       "      <td>0.425543</td>\n",
       "    </tr>\n",
       "    <tr>\n",
       "      <th>1</th>\n",
       "      <td>All Other Suppliers</td>\n",
       "      <td>1.197778</td>\n",
       "      <td>0.618247</td>\n",
       "    </tr>\n",
       "    <tr>\n",
       "      <th>2</th>\n",
       "      <td>Allergy/Immunology</td>\n",
       "      <td>1.036246</td>\n",
       "      <td>0.290311</td>\n",
       "    </tr>\n",
       "    <tr>\n",
       "      <th>3</th>\n",
       "      <td>Ambulance Service Supplier</td>\n",
       "      <td>2.233170</td>\n",
       "      <td>1.051942</td>\n",
       "    </tr>\n",
       "    <tr>\n",
       "      <th>4</th>\n",
       "      <td>Ambulatory Surgical Center</td>\n",
       "      <td>1.111610</td>\n",
       "      <td>0.368960</td>\n",
       "    </tr>\n",
       "  </tbody>\n",
       "</table>\n",
       "</div>"
      ],
      "text/plain": [
       "              Provider's Type  Average Risk Score/Profession  \\\n",
       "0          Addiction Medicine                       1.567948   \n",
       "1         All Other Suppliers                       1.197778   \n",
       "2          Allergy/Immunology                       1.036246   \n",
       "3  Ambulance Service Supplier                       2.233170   \n",
       "4  Ambulatory Surgical Center                       1.111610   \n",
       "\n",
       "   STD Risk Score/Profession  \n",
       "0                   0.425543  \n",
       "1                   0.618247  \n",
       "2                   0.290311  \n",
       "3                   1.051942  \n",
       "4                   0.368960  "
      ]
     },
     "execution_count": 9,
     "metadata": {},
     "output_type": "execute_result"
    }
   ],
   "source": [
    "PT_Average_STD_Risk.rename(index=str, columns={\"provider_type\": \"Provider's Type\", \"Beneficiary_Average_Risk_Score_x\": \"Average Risk Score/Profession\", \"Beneficiary_Average_Risk_Score_y\": \"STD Risk Score/Profession\"}).head()"
   ]
  },
  {
   "cell_type": "code",
   "execution_count": 10,
   "metadata": {},
   "outputs": [
    {
     "data": {
      "text/plain": [
       "[<matplotlib.lines.Line2D at 0x2c58bbec9b0>]"
      ]
     },
     "execution_count": 10,
     "metadata": {},
     "output_type": "execute_result"
    },
    {
     "data": {
      "image/png": "[encoded data removed]",
      "text/plain": [
       "<matplotlib.figure.Figure at 0x2c58bbec940>"
      ]
     },
     "metadata": {},
     "output_type": "display_data"
    }
   ],
   "source": [
    "#some plots: \n",
    "\n",
    "DM = df[df['provider_type'].values == 'Cardiology']\n",
    "\n",
    "h = np.array(DM['Beneficiary_Average_Risk_Score'])\n",
    "h.sort()\n",
    "hmean = np.mean(h)\n",
    "hstd = np.std(h)\n",
    "pdf = stats.norm.pdf(h, hmean, hstd)\n",
    "plt.xlabel(\"Patients' Risk Score of Cardiology Services\")\n",
    "plt.plot(h, pdf)"
   ]
  },
  {
   "cell_type": "code",
   "execution_count": 11,
   "metadata": {},
   "outputs": [
    {
     "data": {
      "text/plain": [
       "[<matplotlib.lines.Line2D at 0x2c58bbec828>]"
      ]
     },
     "execution_count": 11,
     "metadata": {},
     "output_type": "execute_result"
    },
    {
     "data": {
      "image/png": "[encoded data removed]",
      "text/plain": [
       "<matplotlib.figure.Figure at 0x2c58bbec908>"
      ]
     },
     "metadata": {},
     "output_type": "display_data"
    }
   ],
   "source": [
    "DM = df[df['provider_type'].values == 'Ambulance Service Supplier']\n",
    "\n",
    "h = np.array(DM['Beneficiary_Average_Risk_Score'])\n",
    "h.sort()\n",
    "hmean = np.mean(h)\n",
    "hstd = np.std(h)\n",
    "pdf = stats.norm.pdf(h, hmean, hstd)\n",
    "plt.xlabel(\"Patients' Risk Score of Ambulances Services\")\n",
    "plt.plot(h, pdf)"
   ]
  },
  {
   "cell_type": "code",
   "execution_count": 12,
   "metadata": {},
   "outputs": [
    {
     "data": {
      "text/plain": [
       "[<matplotlib.lines.Line2D at 0x2c59731ecf8>]"
      ]
     },
     "execution_count": 12,
     "metadata": {},
     "output_type": "execute_result"
    },
    {
     "data": {
      "image/png": "[encoded data removed]",
      "text/plain": [
       "<matplotlib.figure.Figure at 0x2c58bbe9fd0>"
      ]
     },
     "metadata": {},
     "output_type": "display_data"
    }
   ],
   "source": [
    "DM = df[df['provider_type'].values == 'Family Practice']\n",
    "\n",
    "h = np.array(DM['Beneficiary_Average_Risk_Score'])\n",
    "h.sort()\n",
    "hmean = np.mean(h)\n",
    "hstd = np.std(h)\n",
    "pdf = stats.norm.pdf(h, hmean, hstd)\n",
    "plt.xlabel(\"Patients' Risk Score of Family Practice Services\")\n",
    "plt.plot(h, pdf)"
   ]
  },
  {
   "cell_type": "code",
   "execution_count": 15,
   "metadata": {},
   "outputs": [
    {
     "data": {
      "text/plain": [
       "{'boxes': [<matplotlib.lines.Line2D at 0x2c5d2b96f98>],\n",
       " 'caps': [<matplotlib.lines.Line2D at 0x2c5d2b9a9e8>,\n",
       "  <matplotlib.lines.Line2D at 0x2c5d2b9ae10>],\n",
       " 'fliers': [<matplotlib.lines.Line2D at 0x2c5d2b9d6a0>],\n",
       " 'means': [],\n",
       " 'medians': [<matplotlib.lines.Line2D at 0x2c5d2b9d278>],\n",
       " 'whiskers': [<matplotlib.lines.Line2D at 0x2c5d2b9a128>,\n",
       "  <matplotlib.lines.Line2D at 0x2c5d2b9a5c0>]}"
      ]
     },
     "execution_count": 15,
     "metadata": {},
     "output_type": "execute_result"
    },
    {
     "data": {
      "image/png": "[encoded data removed]",
      "text/plain": [
       "<matplotlib.figure.Figure at 0x2c597d87ba8>"
      ]
     },
     "metadata": {},
     "output_type": "display_data"
    }
   ],
   "source": [
    "#Check the box_plots for the one of the previous examples\n",
    "\n",
    "DM = df[df['provider_type'].values == 'Cardiology']\n",
    "\n",
    "h = DM['Beneficiary_Average_Risk_Score']\n",
    "\n",
    "plt.boxplot(h)"
   ]
  },
  {
   "cell_type": "markdown",
   "metadata": {},
   "source": [
    "# Our first Fishy_Score\n",
    "\n",
    "Now that we know there's a range of PRS for beneficiaries that visit a provider based on their type. We now can assume this:\n",
    "If a beneficiary came to a certain type of provider, and the beneficiary had a PRS which isn't in the provider's type, then there's something fishy; Because then this provider would be recieving patients who maybe needing another speciality, or who don't need services at all.  "
   ]
  },
  {
   "cell_type": "markdown",
   "metadata": {},
   "source": [
    "# Fishy_Score Calculator\n",
    "\n",
    "We used the Empirical Rule to calculate the score. \n",
    "<img src=\"images/2.png\" width=\"500\" height=\"500\">"
   ]
  },
  {
   "cell_type": "code",
   "execution_count": 29,
   "metadata": {},
   "outputs": [
    {
     "data": {
      "text/plain": [
       "count    20904.000000\n",
       "mean         1.919339\n",
       "std          0.475004\n",
       "min          0.466000\n",
       "25%          1.612400\n",
       "50%          1.832400\n",
       "75%          2.142525\n",
       "max          8.660000\n",
       "Name: Beneficiary_Average_Risk_Score, dtype: float64"
      ]
     },
     "execution_count": 29,
     "metadata": {},
     "output_type": "execute_result"
    }
   ],
   "source": [
    "h.describe()"
   ]
  },
  {
   "cell_type": "code",
   "execution_count": 71,
   "metadata": {},
   "outputs": [],
   "source": [
    "#Since the data isn't normally distributed we need to use IQR. \n",
    "\n",
    "def quartiles(a):\n",
    "    \n",
    "    df = a.groupby(\"provider_type\")['Beneficiary_Average_Risk_Score'].describe().reset_index()\n",
    "    df = pd.DataFrame(a, columns=['provider_type', '25%', '50%', '75%'])\n",
    "    \n",
    "    return df"
   ]
  },
  {
   "cell_type": "code",
   "execution_count": 72,
   "metadata": {},
   "outputs": [],
   "source": [
    "def Fishy_Score_Func(val, median, q1, q3, prac_id):\n",
    "    \n",
    "    iqr = q3 - q3\n",
    "    \n",
    "    if val > (q1 - (0.5 * iqr)) & val < (q3 + (0.5 * iqr)):\n",
    "        return 0, prac_id\n",
    "    \n",
    "    elif (val > (q3 + (0.5 * iqr)) & val < (q3 +iqr)) or (val < (q1 - (0.5 * iqr)) & val > (q1 - iqr)):\n",
    "        return 1, prac_id\n",
    "    \n",
    "    elif (val > (q3 +  iqr) & val < q3 + (1.5 * iqr)) or (val < (q1 - iqr) & val > (q1 - (1.5 * iqr))):\n",
    "        return 2, prac_id\n",
    "    \n",
    "    else:\n",
    "        return 3, prac_id"
   ]
  },
  {
   "cell_type": "code",
   "execution_count": 73,
   "metadata": {},
   "outputs": [],
   "source": [
    "stat = quartiles(df)"
   ]
  },
  {
   "cell_type": "code",
   "execution_count": null,
   "metadata": {},
   "outputs": [],
   "source": []
  },
  {
   "cell_type": "code",
   "execution_count": null,
   "metadata": {},
   "outputs": [],
   "source": []
  },
  {
   "cell_type": "code",
   "execution_count": null,
   "metadata": {},
   "outputs": [],
   "source": []
  },
  {
   "cell_type": "code",
   "execution_count": null,
   "metadata": {},
   "outputs": [],
   "source": []
  }
 ],
 "metadata": {
  "kernelspec": {
   "display_name": "Python 3",
   "language": "python",
   "name": "python3"
  },
  "language_info": {
   "codemirror_mode": {
    "name": "ipython",
    "version": 3
   },
   "file_extension": ".py",
   "mimetype": "text/x-python",
   "name": "python",
   "nbconvert_exporter": "python",
   "pygments_lexer": "ipython3",
   "version": "3.5.4"
  }
 },
 "nbformat": 4,
 "nbformat_minor": 2
}
